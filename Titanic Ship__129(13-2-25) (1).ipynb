{
 "cells": [
  {
   "cell_type": "code",
   "execution_count": 1,
   "metadata": {},
   "outputs": [
    {
     "name": "stdout",
     "output_type": "stream",
     "text": [
      "Collecting mlxtend\n",
      "  Downloading mlxtend-0.23.4-py3-none-any.whl (1.4 MB)\n",
      "Requirement already satisfied: numpy>=1.16.2 in c:\\users\\mruh\\anaconda3\\lib\\site-packages (from mlxtend) (1.24.4)\n",
      "Requirement already satisfied: matplotlib>=3.0.0 in c:\\users\\mruh\\anaconda3\\lib\\site-packages (from mlxtend) (3.3.2)\n",
      "Requirement already satisfied: joblib>=0.13.2 in c:\\users\\mruh\\anaconda3\\lib\\site-packages (from mlxtend) (1.4.2)\n",
      "Requirement already satisfied: scipy>=1.2.1 in c:\\users\\mruh\\anaconda3\\lib\\site-packages (from mlxtend) (1.5.2)\n",
      "Requirement already satisfied: pandas>=0.24.2 in c:\\users\\mruh\\anaconda3\\lib\\site-packages (from mlxtend) (1.5.3)\n",
      "Requirement already satisfied: scikit-learn>=1.3.1 in c:\\users\\mruh\\anaconda3\\lib\\site-packages (from mlxtend) (1.3.2)\n",
      "Requirement already satisfied: certifi>=2020.06.20 in c:\\users\\mruh\\anaconda3\\lib\\site-packages (from matplotlib>=3.0.0->mlxtend) (2020.6.20)\n",
      "Requirement already satisfied: kiwisolver>=1.0.1 in c:\\users\\mruh\\anaconda3\\lib\\site-packages (from matplotlib>=3.0.0->mlxtend) (1.3.0)\n",
      "Requirement already satisfied: cycler>=0.10 in c:\\users\\mruh\\anaconda3\\lib\\site-packages (from matplotlib>=3.0.0->mlxtend) (0.10.0)\n",
      "Requirement already satisfied: python-dateutil>=2.1 in c:\\users\\mruh\\anaconda3\\lib\\site-packages (from matplotlib>=3.0.0->mlxtend) (2.8.1)\n",
      "Requirement already satisfied: pillow>=6.2.0 in c:\\users\\mruh\\anaconda3\\lib\\site-packages (from matplotlib>=3.0.0->mlxtend) (8.0.1)\n",
      "Requirement already satisfied: pyparsing!=2.0.4,!=2.1.2,!=2.1.6,>=2.0.3 in c:\\users\\mruh\\anaconda3\\lib\\site-packages (from matplotlib>=3.0.0->mlxtend) (2.4.7)\n",
      "Requirement already satisfied: pytz>=2020.1 in c:\\users\\mruh\\anaconda3\\lib\\site-packages (from pandas>=0.24.2->mlxtend) (2020.1)\n",
      "Requirement already satisfied: threadpoolctl>=2.0.0 in c:\\users\\mruh\\anaconda3\\lib\\site-packages (from scikit-learn>=1.3.1->mlxtend) (3.5.0)\n",
      "Requirement already satisfied: six in c:\\users\\mruh\\anaconda3\\lib\\site-packages (from cycler>=0.10->matplotlib>=3.0.0->mlxtend) (1.15.0)\n",
      "Installing collected packages: mlxtend\n",
      "Successfully installed mlxtend-0.23.4\n"
     ]
    }
   ],
   "source": [
    "# Install mlxtend library\n",
    "!pip install mlxtend"
   ]
  },
  {
   "cell_type": "code",
   "execution_count": 10,
   "metadata": {},
   "outputs": [],
   "source": [
    "# Import necessary libraries\n",
    "\n",
    "import pandas as pd\n",
    "import mlxtend\n",
    "from mlxtend.frequent_patterns import apriori,association_rules\n",
    "import matplotlib.pyplot as plt"
   ]
  },
  {
   "cell_type": "code",
   "execution_count": 18,
   "metadata": {},
   "outputs": [
    {
     "data": {
      "text/html": [
       "<div>\n",
       "<style scoped>\n",
       "    .dataframe tbody tr th:only-of-type {\n",
       "        vertical-align: middle;\n",
       "    }\n",
       "\n",
       "    .dataframe tbody tr th {\n",
       "        vertical-align: top;\n",
       "    }\n",
       "\n",
       "    .dataframe thead th {\n",
       "        text-align: right;\n",
       "    }\n",
       "</style>\n",
       "<table border=\"1\" class=\"dataframe\">\n",
       "  <thead>\n",
       "    <tr style=\"text-align: right;\">\n",
       "      <th></th>\n",
       "      <th>Class</th>\n",
       "      <th>Gender</th>\n",
       "      <th>Age</th>\n",
       "      <th>Survived</th>\n",
       "    </tr>\n",
       "  </thead>\n",
       "  <tbody>\n",
       "    <tr>\n",
       "      <th>0</th>\n",
       "      <td>3rd</td>\n",
       "      <td>Male</td>\n",
       "      <td>Child</td>\n",
       "      <td>No</td>\n",
       "    </tr>\n",
       "    <tr>\n",
       "      <th>1</th>\n",
       "      <td>3rd</td>\n",
       "      <td>Male</td>\n",
       "      <td>Child</td>\n",
       "      <td>No</td>\n",
       "    </tr>\n",
       "    <tr>\n",
       "      <th>2</th>\n",
       "      <td>3rd</td>\n",
       "      <td>Male</td>\n",
       "      <td>Child</td>\n",
       "      <td>No</td>\n",
       "    </tr>\n",
       "    <tr>\n",
       "      <th>3</th>\n",
       "      <td>3rd</td>\n",
       "      <td>Male</td>\n",
       "      <td>Child</td>\n",
       "      <td>No</td>\n",
       "    </tr>\n",
       "    <tr>\n",
       "      <th>4</th>\n",
       "      <td>3rd</td>\n",
       "      <td>Male</td>\n",
       "      <td>Child</td>\n",
       "      <td>No</td>\n",
       "    </tr>\n",
       "    <tr>\n",
       "      <th>...</th>\n",
       "      <td>...</td>\n",
       "      <td>...</td>\n",
       "      <td>...</td>\n",
       "      <td>...</td>\n",
       "    </tr>\n",
       "    <tr>\n",
       "      <th>2196</th>\n",
       "      <td>Crew</td>\n",
       "      <td>Female</td>\n",
       "      <td>Adult</td>\n",
       "      <td>Yes</td>\n",
       "    </tr>\n",
       "    <tr>\n",
       "      <th>2197</th>\n",
       "      <td>Crew</td>\n",
       "      <td>Female</td>\n",
       "      <td>Adult</td>\n",
       "      <td>Yes</td>\n",
       "    </tr>\n",
       "    <tr>\n",
       "      <th>2198</th>\n",
       "      <td>Crew</td>\n",
       "      <td>Female</td>\n",
       "      <td>Adult</td>\n",
       "      <td>Yes</td>\n",
       "    </tr>\n",
       "    <tr>\n",
       "      <th>2199</th>\n",
       "      <td>Crew</td>\n",
       "      <td>Female</td>\n",
       "      <td>Adult</td>\n",
       "      <td>Yes</td>\n",
       "    </tr>\n",
       "    <tr>\n",
       "      <th>2200</th>\n",
       "      <td>Crew</td>\n",
       "      <td>Female</td>\n",
       "      <td>Adult</td>\n",
       "      <td>Yes</td>\n",
       "    </tr>\n",
       "  </tbody>\n",
       "</table>\n",
       "<p>2201 rows × 4 columns</p>\n",
       "</div>"
      ],
      "text/plain": [
       "     Class  Gender    Age Survived\n",
       "0      3rd    Male  Child       No\n",
       "1      3rd    Male  Child       No\n",
       "2      3rd    Male  Child       No\n",
       "3      3rd    Male  Child       No\n",
       "4      3rd    Male  Child       No\n",
       "...    ...     ...    ...      ...\n",
       "2196  Crew  Female  Adult      Yes\n",
       "2197  Crew  Female  Adult      Yes\n",
       "2198  Crew  Female  Adult      Yes\n",
       "2199  Crew  Female  Adult      Yes\n",
       "2200  Crew  Female  Adult      Yes\n",
       "\n",
       "[2201 rows x 4 columns]"
      ]
     },
     "execution_count": 18,
     "metadata": {},
     "output_type": "execute_result"
    }
   ],
   "source": [
    "# print the dataframe\n",
    "titanic = pd.read_csv(\"Titanic.csv\")\n",
    "titanic"
   ]
  },
  {
   "cell_type": "code",
   "execution_count": 16,
   "metadata": {},
   "outputs": [
    {
     "name": "stdout",
     "output_type": "stream",
     "text": [
      "<class 'pandas.core.frame.DataFrame'>\n",
      "RangeIndex: 2201 entries, 0 to 2200\n",
      "Data columns (total 4 columns):\n",
      " #   Column    Non-Null Count  Dtype \n",
      "---  ------    --------------  ----- \n",
      " 0   Class     2201 non-null   object\n",
      " 1   Gender    2201 non-null   object\n",
      " 2   Age       2201 non-null   object\n",
      " 3   Survived  2201 non-null   object\n",
      "dtypes: object(4)\n",
      "memory usage: 68.9+ KB\n"
     ]
    }
   ],
   "source": [
    "titanic.info()"
   ]
  },
  {
   "cell_type": "code",
   "execution_count": 19,
   "metadata": {},
   "outputs": [
    {
     "data": {
      "text/html": [
       "<div>\n",
       "<style scoped>\n",
       "    .dataframe tbody tr th:only-of-type {\n",
       "        vertical-align: middle;\n",
       "    }\n",
       "\n",
       "    .dataframe tbody tr th {\n",
       "        vertical-align: top;\n",
       "    }\n",
       "\n",
       "    .dataframe thead th {\n",
       "        text-align: right;\n",
       "    }\n",
       "</style>\n",
       "<table border=\"1\" class=\"dataframe\">\n",
       "  <thead>\n",
       "    <tr style=\"text-align: right;\">\n",
       "      <th></th>\n",
       "      <th>Class</th>\n",
       "      <th>Gender</th>\n",
       "      <th>Age</th>\n",
       "      <th>Survived</th>\n",
       "    </tr>\n",
       "  </thead>\n",
       "  <tbody>\n",
       "    <tr>\n",
       "      <th>count</th>\n",
       "      <td>2201</td>\n",
       "      <td>2201</td>\n",
       "      <td>2201</td>\n",
       "      <td>2201</td>\n",
       "    </tr>\n",
       "    <tr>\n",
       "      <th>unique</th>\n",
       "      <td>4</td>\n",
       "      <td>2</td>\n",
       "      <td>2</td>\n",
       "      <td>2</td>\n",
       "    </tr>\n",
       "    <tr>\n",
       "      <th>top</th>\n",
       "      <td>Crew</td>\n",
       "      <td>Male</td>\n",
       "      <td>Adult</td>\n",
       "      <td>No</td>\n",
       "    </tr>\n",
       "    <tr>\n",
       "      <th>freq</th>\n",
       "      <td>885</td>\n",
       "      <td>1731</td>\n",
       "      <td>2092</td>\n",
       "      <td>1490</td>\n",
       "    </tr>\n",
       "  </tbody>\n",
       "</table>\n",
       "</div>"
      ],
      "text/plain": [
       "       Class Gender    Age Survived\n",
       "count   2201   2201   2201     2201\n",
       "unique     4      2      2        2\n",
       "top     Crew   Male  Adult       No\n",
       "freq     885   1731   2092     1490"
      ]
     },
     "execution_count": 19,
     "metadata": {},
     "output_type": "execute_result"
    }
   ],
   "source": [
    "titanic.describe()"
   ]
  },
  {
   "cell_type": "code",
   "execution_count": 21,
   "metadata": {},
   "outputs": [
    {
     "data": {
      "text/plain": [
       "Class       0\n",
       "Gender      0\n",
       "Age         0\n",
       "Survived    0\n",
       "dtype: int64"
      ]
     },
     "execution_count": 21,
     "metadata": {},
     "output_type": "execute_result"
    }
   ],
   "source": [
    "titanic.isnull().sum()"
   ]
  },
  {
   "cell_type": "code",
   "execution_count": 22,
   "metadata": {},
   "outputs": [
    {
     "data": {
      "text/html": [
       "<div>\n",
       "<style scoped>\n",
       "    .dataframe tbody tr th:only-of-type {\n",
       "        vertical-align: middle;\n",
       "    }\n",
       "\n",
       "    .dataframe tbody tr th {\n",
       "        vertical-align: top;\n",
       "    }\n",
       "\n",
       "    .dataframe thead th {\n",
       "        text-align: right;\n",
       "    }\n",
       "</style>\n",
       "<table border=\"1\" class=\"dataframe\">\n",
       "  <thead>\n",
       "    <tr style=\"text-align: right;\">\n",
       "      <th></th>\n",
       "      <th>Class</th>\n",
       "      <th>Gender</th>\n",
       "      <th>Age</th>\n",
       "      <th>Survived</th>\n",
       "    </tr>\n",
       "  </thead>\n",
       "  <tbody>\n",
       "    <tr>\n",
       "      <th>0</th>\n",
       "      <td>3rd</td>\n",
       "      <td>Male</td>\n",
       "      <td>Child</td>\n",
       "      <td>No</td>\n",
       "    </tr>\n",
       "    <tr>\n",
       "      <th>1</th>\n",
       "      <td>3rd</td>\n",
       "      <td>Male</td>\n",
       "      <td>Child</td>\n",
       "      <td>No</td>\n",
       "    </tr>\n",
       "    <tr>\n",
       "      <th>2</th>\n",
       "      <td>3rd</td>\n",
       "      <td>Male</td>\n",
       "      <td>Child</td>\n",
       "      <td>No</td>\n",
       "    </tr>\n",
       "    <tr>\n",
       "      <th>3</th>\n",
       "      <td>3rd</td>\n",
       "      <td>Male</td>\n",
       "      <td>Child</td>\n",
       "      <td>No</td>\n",
       "    </tr>\n",
       "    <tr>\n",
       "      <th>4</th>\n",
       "      <td>3rd</td>\n",
       "      <td>Male</td>\n",
       "      <td>Child</td>\n",
       "      <td>No</td>\n",
       "    </tr>\n",
       "  </tbody>\n",
       "</table>\n",
       "</div>"
      ],
      "text/plain": [
       "  Class Gender    Age Survived\n",
       "0   3rd   Male  Child       No\n",
       "1   3rd   Male  Child       No\n",
       "2   3rd   Male  Child       No\n",
       "3   3rd   Male  Child       No\n",
       "4   3rd   Male  Child       No"
      ]
     },
     "execution_count": 22,
     "metadata": {},
     "output_type": "execute_result"
    }
   ],
   "source": [
    "titanic.head()"
   ]
  },
  {
   "cell_type": "code",
   "execution_count": 23,
   "metadata": {},
   "outputs": [
    {
     "data": {
      "text/html": [
       "<div>\n",
       "<style scoped>\n",
       "    .dataframe tbody tr th:only-of-type {\n",
       "        vertical-align: middle;\n",
       "    }\n",
       "\n",
       "    .dataframe tbody tr th {\n",
       "        vertical-align: top;\n",
       "    }\n",
       "\n",
       "    .dataframe thead th {\n",
       "        text-align: right;\n",
       "    }\n",
       "</style>\n",
       "<table border=\"1\" class=\"dataframe\">\n",
       "  <thead>\n",
       "    <tr style=\"text-align: right;\">\n",
       "      <th></th>\n",
       "      <th>Class</th>\n",
       "      <th>Gender</th>\n",
       "      <th>Age</th>\n",
       "      <th>Survived</th>\n",
       "    </tr>\n",
       "  </thead>\n",
       "  <tbody>\n",
       "    <tr>\n",
       "      <th>2196</th>\n",
       "      <td>Crew</td>\n",
       "      <td>Female</td>\n",
       "      <td>Adult</td>\n",
       "      <td>Yes</td>\n",
       "    </tr>\n",
       "    <tr>\n",
       "      <th>2197</th>\n",
       "      <td>Crew</td>\n",
       "      <td>Female</td>\n",
       "      <td>Adult</td>\n",
       "      <td>Yes</td>\n",
       "    </tr>\n",
       "    <tr>\n",
       "      <th>2198</th>\n",
       "      <td>Crew</td>\n",
       "      <td>Female</td>\n",
       "      <td>Adult</td>\n",
       "      <td>Yes</td>\n",
       "    </tr>\n",
       "    <tr>\n",
       "      <th>2199</th>\n",
       "      <td>Crew</td>\n",
       "      <td>Female</td>\n",
       "      <td>Adult</td>\n",
       "      <td>Yes</td>\n",
       "    </tr>\n",
       "    <tr>\n",
       "      <th>2200</th>\n",
       "      <td>Crew</td>\n",
       "      <td>Female</td>\n",
       "      <td>Adult</td>\n",
       "      <td>Yes</td>\n",
       "    </tr>\n",
       "  </tbody>\n",
       "</table>\n",
       "</div>"
      ],
      "text/plain": [
       "     Class  Gender    Age Survived\n",
       "2196  Crew  Female  Adult      Yes\n",
       "2197  Crew  Female  Adult      Yes\n",
       "2198  Crew  Female  Adult      Yes\n",
       "2199  Crew  Female  Adult      Yes\n",
       "2200  Crew  Female  Adult      Yes"
      ]
     },
     "execution_count": 23,
     "metadata": {},
     "output_type": "execute_result"
    }
   ],
   "source": [
    "titanic.tail()"
   ]
  },
  {
   "cell_type": "markdown",
   "metadata": {},
   "source": [
    "### Observations\n",
    "- All columns are object data type and categorical in nature\n",
    "- There are no null values\n",
    "- As the columns are categorical, we can adopt one-hot-encoding"
   ]
  },
  {
   "cell_type": "code",
   "execution_count": 32,
   "metadata": {},
   "outputs": [
    {
     "data": {
      "text/plain": [
       "Crew    885\n",
       "3rd     706\n",
       "1st     325\n",
       "2nd     285\n",
       "Name: Class, dtype: int64"
      ]
     },
     "execution_count": 32,
     "metadata": {},
     "output_type": "execute_result"
    },
    {
     "data": {
      "image/png": "[encoded data removed]",
      "text/plain": [
       "<Figure size 432x288 with 1 Axes>"
      ]
     },
     "metadata": {
      "needs_background": "light"
     },
     "output_type": "display_data"
    }
   ],
   "source": [
    "#plot a bar chart to visualize the category of people on the ship\n",
    "counts = titanic['Class'].value_counts()\n",
    "plt.bar(counts.index, counts.values)\n",
    "counts"
   ]
  },
  {
   "cell_type": "code",
   "execution_count": 33,
   "metadata": {},
   "outputs": [
    {
     "data": {
      "text/plain": [
       "Adult    2092\n",
       "Child     109\n",
       "Name: Age, dtype: int64"
      ]
     },
     "execution_count": 33,
     "metadata": {},
     "output_type": "execute_result"
    },
    {
     "data": {
      "image/png": "[encoded data removed]",
      "text/plain": [
       "<Figure size 432x288 with 1 Axes>"
      ]
     },
     "metadata": {
      "needs_background": "light"
     },
     "output_type": "display_data"
    }
   ],
   "source": [
    "counts = titanic['Age'].value_counts()\n",
    "plt.bar(counts.index, counts.values)\n",
    "counts"
   ]
  },
  {
   "cell_type": "code",
   "execution_count": 34,
   "metadata": {},
   "outputs": [
    {
     "data": {
      "text/plain": [
       "No     1490\n",
       "Yes     711\n",
       "Name: Survived, dtype: int64"
      ]
     },
     "execution_count": 34,
     "metadata": {},
     "output_type": "execute_result"
    },
    {
     "data": {
      "image/png": "[encoded data removed]",
      "text/plain": [
       "<Figure size 432x288 with 1 Axes>"
      ]
     },
     "metadata": {
      "needs_background": "light"
     },
     "output_type": "display_data"
    }
   ],
   "source": [
    "counts = titanic['Survived'].value_counts()\n",
    "plt.bar(counts.index, counts.values)\n",
    "counts"
   ]
  },
  {
   "cell_type": "code",
   "execution_count": 35,
   "metadata": {},
   "outputs": [
    {
     "data": {
      "text/plain": [
       "Male      1731\n",
       "Female     470\n",
       "Name: Gender, dtype: int64"
      ]
     },
     "execution_count": 35,
     "metadata": {},
     "output_type": "execute_result"
    },
    {
     "data": {
      "image/png": "[encoded data removed]",
      "text/plain": [
       "<Figure size 432x288 with 1 Axes>"
      ]
     },
     "metadata": {
      "needs_background": "light"
     },
     "output_type": "display_data"
    }
   ],
   "source": [
    "counts = titanic['Gender'].value_counts()\n",
    "plt.bar(counts.index, counts.values)\n",
    "counts"
   ]
  },
  {
   "cell_type": "code",
   "execution_count": 36,
   "metadata": {},
   "outputs": [
    {
     "data": {
      "text/html": [
       "<div>\n",
       "<style scoped>\n",
       "    .dataframe tbody tr th:only-of-type {\n",
       "        vertical-align: middle;\n",
       "    }\n",
       "\n",
       "    .dataframe tbody tr th {\n",
       "        vertical-align: top;\n",
       "    }\n",
       "\n",
       "    .dataframe thead th {\n",
       "        text-align: right;\n",
       "    }\n",
       "</style>\n",
       "<table border=\"1\" class=\"dataframe\">\n",
       "  <thead>\n",
       "    <tr style=\"text-align: right;\">\n",
       "      <th></th>\n",
       "      <th>Class_1st</th>\n",
       "      <th>Class_2nd</th>\n",
       "      <th>Class_3rd</th>\n",
       "      <th>Class_Crew</th>\n",
       "      <th>Gender_Female</th>\n",
       "      <th>Gender_Male</th>\n",
       "      <th>Age_Adult</th>\n",
       "      <th>Age_Child</th>\n",
       "      <th>Survived_No</th>\n",
       "      <th>Survived_Yes</th>\n",
       "    </tr>\n",
       "  </thead>\n",
       "  <tbody>\n",
       "    <tr>\n",
       "      <th>0</th>\n",
       "      <td>0</td>\n",
       "      <td>0</td>\n",
       "      <td>1</td>\n",
       "      <td>0</td>\n",
       "      <td>0</td>\n",
       "      <td>1</td>\n",
       "      <td>0</td>\n",
       "      <td>1</td>\n",
       "      <td>1</td>\n",
       "      <td>0</td>\n",
       "    </tr>\n",
       "    <tr>\n",
       "      <th>1</th>\n",
       "      <td>0</td>\n",
       "      <td>0</td>\n",
       "      <td>1</td>\n",
       "      <td>0</td>\n",
       "      <td>0</td>\n",
       "      <td>1</td>\n",
       "      <td>0</td>\n",
       "      <td>1</td>\n",
       "      <td>1</td>\n",
       "      <td>0</td>\n",
       "    </tr>\n",
       "    <tr>\n",
       "      <th>2</th>\n",
       "      <td>0</td>\n",
       "      <td>0</td>\n",
       "      <td>1</td>\n",
       "      <td>0</td>\n",
       "      <td>0</td>\n",
       "      <td>1</td>\n",
       "      <td>0</td>\n",
       "      <td>1</td>\n",
       "      <td>1</td>\n",
       "      <td>0</td>\n",
       "    </tr>\n",
       "    <tr>\n",
       "      <th>3</th>\n",
       "      <td>0</td>\n",
       "      <td>0</td>\n",
       "      <td>1</td>\n",
       "      <td>0</td>\n",
       "      <td>0</td>\n",
       "      <td>1</td>\n",
       "      <td>0</td>\n",
       "      <td>1</td>\n",
       "      <td>1</td>\n",
       "      <td>0</td>\n",
       "    </tr>\n",
       "    <tr>\n",
       "      <th>4</th>\n",
       "      <td>0</td>\n",
       "      <td>0</td>\n",
       "      <td>1</td>\n",
       "      <td>0</td>\n",
       "      <td>0</td>\n",
       "      <td>1</td>\n",
       "      <td>0</td>\n",
       "      <td>1</td>\n",
       "      <td>1</td>\n",
       "      <td>0</td>\n",
       "    </tr>\n",
       "  </tbody>\n",
       "</table>\n",
       "</div>"
      ],
      "text/plain": [
       "   Class_1st  Class_2nd  Class_3rd  Class_Crew  Gender_Female  Gender_Male  \\\n",
       "0          0          0          1           0              0            1   \n",
       "1          0          0          1           0              0            1   \n",
       "2          0          0          1           0              0            1   \n",
       "3          0          0          1           0              0            1   \n",
       "4          0          0          1           0              0            1   \n",
       "\n",
       "   Age_Adult  Age_Child  Survived_No  Survived_Yes  \n",
       "0          0          1            1             0  \n",
       "1          0          1            1             0  \n",
       "2          0          1            1             0  \n",
       "3          0          1            1             0  \n",
       "4          0          1            1             0  "
      ]
     },
     "execution_count": 36,
     "metadata": {},
     "output_type": "execute_result"
    }
   ],
   "source": [
    "# perform one-hot encoding on categorical columns\n",
    "df=pd.get_dummies(titanic,dtype=int)\n",
    "df.head()"
   ]
  },
  {
   "cell_type": "code",
   "execution_count": 37,
   "metadata": {},
   "outputs": [
    {
     "name": "stdout",
     "output_type": "stream",
     "text": [
      "<class 'pandas.core.frame.DataFrame'>\n",
      "RangeIndex: 2201 entries, 0 to 2200\n",
      "Data columns (total 10 columns):\n",
      " #   Column         Non-Null Count  Dtype\n",
      "---  ------         --------------  -----\n",
      " 0   Class_1st      2201 non-null   int32\n",
      " 1   Class_2nd      2201 non-null   int32\n",
      " 2   Class_3rd      2201 non-null   int32\n",
      " 3   Class_Crew     2201 non-null   int32\n",
      " 4   Gender_Female  2201 non-null   int32\n",
      " 5   Gender_Male    2201 non-null   int32\n",
      " 6   Age_Adult      2201 non-null   int32\n",
      " 7   Age_Child      2201 non-null   int32\n",
      " 8   Survived_No    2201 non-null   int32\n",
      " 9   Survived_Yes   2201 non-null   int32\n",
      "dtypes: int32(10)\n",
      "memory usage: 86.1 KB\n"
     ]
    }
   ],
   "source": [
    "df.info()"
   ]
  },
  {
   "cell_type": "markdown",
   "metadata": {},
   "source": [
    "## Apriori Algorithm"
   ]
  },
  {
   "cell_type": "code",
   "execution_count": 40,
   "metadata": {},
   "outputs": [
    {
     "data": {
      "text/html": [
       "<div>\n",
       "<style scoped>\n",
       "    .dataframe tbody tr th:only-of-type {\n",
       "        vertical-align: middle;\n",
       "    }\n",
       "\n",
       "    .dataframe tbody tr th {\n",
       "        vertical-align: top;\n",
       "    }\n",
       "\n",
       "    .dataframe thead th {\n",
       "        text-align: right;\n",
       "    }\n",
       "</style>\n",
       "<table border=\"1\" class=\"dataframe\">\n",
       "  <thead>\n",
       "    <tr style=\"text-align: right;\">\n",
       "      <th></th>\n",
       "      <th>support</th>\n",
       "      <th>itemsets</th>\n",
       "    </tr>\n",
       "  </thead>\n",
       "  <tbody>\n",
       "    <tr>\n",
       "      <th>0</th>\n",
       "      <td>0.147660</td>\n",
       "      <td>(Class_1st)</td>\n",
       "    </tr>\n",
       "    <tr>\n",
       "      <th>1</th>\n",
       "      <td>0.129487</td>\n",
       "      <td>(Class_2nd)</td>\n",
       "    </tr>\n",
       "    <tr>\n",
       "      <th>2</th>\n",
       "      <td>0.320763</td>\n",
       "      <td>(Class_3rd)</td>\n",
       "    </tr>\n",
       "    <tr>\n",
       "      <th>3</th>\n",
       "      <td>0.402090</td>\n",
       "      <td>(Class_Crew)</td>\n",
       "    </tr>\n",
       "    <tr>\n",
       "      <th>4</th>\n",
       "      <td>0.213539</td>\n",
       "      <td>(Gender_Female)</td>\n",
       "    </tr>\n",
       "    <tr>\n",
       "      <th>...</th>\n",
       "      <td>...</td>\n",
       "      <td>...</td>\n",
       "    </tr>\n",
       "    <tr>\n",
       "      <th>58</th>\n",
       "      <td>0.053612</td>\n",
       "      <td>(Survived_No, Age_Adult, Gender_Male, Class_1st)</td>\n",
       "    </tr>\n",
       "    <tr>\n",
       "      <th>59</th>\n",
       "      <td>0.069968</td>\n",
       "      <td>(Survived_No, Gender_Male, Age_Adult, Class_2nd)</td>\n",
       "    </tr>\n",
       "    <tr>\n",
       "      <th>60</th>\n",
       "      <td>0.175829</td>\n",
       "      <td>(Class_3rd, Survived_No, Age_Adult, Gender_Male)</td>\n",
       "    </tr>\n",
       "    <tr>\n",
       "      <th>61</th>\n",
       "      <td>0.304407</td>\n",
       "      <td>(Survived_No, Class_Crew, Age_Adult, Gender_Male)</td>\n",
       "    </tr>\n",
       "    <tr>\n",
       "      <th>62</th>\n",
       "      <td>0.087233</td>\n",
       "      <td>(Gender_Male, Age_Adult, Class_Crew, Survived_...</td>\n",
       "    </tr>\n",
       "  </tbody>\n",
       "</table>\n",
       "<p>63 rows × 2 columns</p>\n",
       "</div>"
      ],
      "text/plain": [
       "     support                                           itemsets\n",
       "0   0.147660                                        (Class_1st)\n",
       "1   0.129487                                        (Class_2nd)\n",
       "2   0.320763                                        (Class_3rd)\n",
       "3   0.402090                                       (Class_Crew)\n",
       "4   0.213539                                    (Gender_Female)\n",
       "..       ...                                                ...\n",
       "58  0.053612   (Survived_No, Age_Adult, Gender_Male, Class_1st)\n",
       "59  0.069968   (Survived_No, Gender_Male, Age_Adult, Class_2nd)\n",
       "60  0.175829   (Class_3rd, Survived_No, Age_Adult, Gender_Male)\n",
       "61  0.304407  (Survived_No, Class_Crew, Age_Adult, Gender_Male)\n",
       "62  0.087233  (Gender_Male, Age_Adult, Class_Crew, Survived_...\n",
       "\n",
       "[63 rows x 2 columns]"
      ]
     },
     "execution_count": 40,
     "metadata": {},
     "output_type": "execute_result"
    }
   ],
   "source": [
    "# Apply Apriori algorithm to get itemset combinations\n",
    "frequent_itemsets = apriori(df, min_support=0.05, use_colnames=True, max_len=None)\n",
    "frequent_itemsets"
   ]
  },
  {
   "cell_type": "code",
   "execution_count": 41,
   "metadata": {},
   "outputs": [
    {
     "name": "stdout",
     "output_type": "stream",
     "text": [
      "<class 'pandas.core.frame.DataFrame'>\n",
      "RangeIndex: 63 entries, 0 to 62\n",
      "Data columns (total 2 columns):\n",
      " #   Column    Non-Null Count  Dtype  \n",
      "---  ------    --------------  -----  \n",
      " 0   support   63 non-null     float64\n",
      " 1   itemsets  63 non-null     object \n",
      "dtypes: float64(1), object(1)\n",
      "memory usage: 1.1+ KB\n"
     ]
    }
   ],
   "source": [
    "frequent_itemsets.info()"
   ]
  },
  {
   "cell_type": "code",
   "execution_count": 43,
   "metadata": {},
   "outputs": [
    {
     "data": {
      "text/html": [
       "<div>\n",
       "<style scoped>\n",
       "    .dataframe tbody tr th:only-of-type {\n",
       "        vertical-align: middle;\n",
       "    }\n",
       "\n",
       "    .dataframe tbody tr th {\n",
       "        vertical-align: top;\n",
       "    }\n",
       "\n",
       "    .dataframe thead th {\n",
       "        text-align: right;\n",
       "    }\n",
       "</style>\n",
       "<table border=\"1\" class=\"dataframe\">\n",
       "  <thead>\n",
       "    <tr style=\"text-align: right;\">\n",
       "      <th></th>\n",
       "      <th>antecedents</th>\n",
       "      <th>consequents</th>\n",
       "      <th>antecedent support</th>\n",
       "      <th>consequent support</th>\n",
       "      <th>support</th>\n",
       "      <th>confidence</th>\n",
       "      <th>lift</th>\n",
       "      <th>representativity</th>\n",
       "      <th>leverage</th>\n",
       "      <th>conviction</th>\n",
       "      <th>zhangs_metric</th>\n",
       "      <th>jaccard</th>\n",
       "      <th>certainty</th>\n",
       "      <th>kulczynski</th>\n",
       "    </tr>\n",
       "  </thead>\n",
       "  <tbody>\n",
       "    <tr>\n",
       "      <th>0</th>\n",
       "      <td>(Gender_Female)</td>\n",
       "      <td>(Class_1st)</td>\n",
       "      <td>0.213539</td>\n",
       "      <td>0.147660</td>\n",
       "      <td>0.065879</td>\n",
       "      <td>0.308511</td>\n",
       "      <td>2.089329</td>\n",
       "      <td>1.0</td>\n",
       "      <td>0.034348</td>\n",
       "      <td>1.232615</td>\n",
       "      <td>0.662941</td>\n",
       "      <td>0.223077</td>\n",
       "      <td>0.188716</td>\n",
       "      <td>0.377332</td>\n",
       "    </tr>\n",
       "    <tr>\n",
       "      <th>1</th>\n",
       "      <td>(Class_1st)</td>\n",
       "      <td>(Gender_Female)</td>\n",
       "      <td>0.147660</td>\n",
       "      <td>0.213539</td>\n",
       "      <td>0.065879</td>\n",
       "      <td>0.446154</td>\n",
       "      <td>2.089329</td>\n",
       "      <td>1.0</td>\n",
       "      <td>0.034348</td>\n",
       "      <td>1.419998</td>\n",
       "      <td>0.611701</td>\n",
       "      <td>0.223077</td>\n",
       "      <td>0.295774</td>\n",
       "      <td>0.377332</td>\n",
       "    </tr>\n",
       "    <tr>\n",
       "      <th>2</th>\n",
       "      <td>(Age_Adult)</td>\n",
       "      <td>(Class_1st)</td>\n",
       "      <td>0.950477</td>\n",
       "      <td>0.147660</td>\n",
       "      <td>0.144934</td>\n",
       "      <td>0.152486</td>\n",
       "      <td>1.032680</td>\n",
       "      <td>1.0</td>\n",
       "      <td>0.004587</td>\n",
       "      <td>1.005694</td>\n",
       "      <td>0.639010</td>\n",
       "      <td>0.152050</td>\n",
       "      <td>0.005661</td>\n",
       "      <td>0.567012</td>\n",
       "    </tr>\n",
       "    <tr>\n",
       "      <th>3</th>\n",
       "      <td>(Class_1st)</td>\n",
       "      <td>(Age_Adult)</td>\n",
       "      <td>0.147660</td>\n",
       "      <td>0.950477</td>\n",
       "      <td>0.144934</td>\n",
       "      <td>0.981538</td>\n",
       "      <td>1.032680</td>\n",
       "      <td>1.0</td>\n",
       "      <td>0.004587</td>\n",
       "      <td>2.682493</td>\n",
       "      <td>0.037128</td>\n",
       "      <td>0.152050</td>\n",
       "      <td>0.627212</td>\n",
       "      <td>0.567012</td>\n",
       "    </tr>\n",
       "    <tr>\n",
       "      <th>4</th>\n",
       "      <td>(Survived_Yes)</td>\n",
       "      <td>(Class_1st)</td>\n",
       "      <td>0.323035</td>\n",
       "      <td>0.147660</td>\n",
       "      <td>0.092231</td>\n",
       "      <td>0.285513</td>\n",
       "      <td>1.933584</td>\n",
       "      <td>1.0</td>\n",
       "      <td>0.044531</td>\n",
       "      <td>1.192940</td>\n",
       "      <td>0.713221</td>\n",
       "      <td>0.243697</td>\n",
       "      <td>0.161735</td>\n",
       "      <td>0.455064</td>\n",
       "    </tr>\n",
       "    <tr>\n",
       "      <th>...</th>\n",
       "      <td>...</td>\n",
       "      <td>...</td>\n",
       "      <td>...</td>\n",
       "      <td>...</td>\n",
       "      <td>...</td>\n",
       "      <td>...</td>\n",
       "      <td>...</td>\n",
       "      <td>...</td>\n",
       "      <td>...</td>\n",
       "      <td>...</td>\n",
       "      <td>...</td>\n",
       "      <td>...</td>\n",
       "      <td>...</td>\n",
       "      <td>...</td>\n",
       "    </tr>\n",
       "    <tr>\n",
       "      <th>159</th>\n",
       "      <td>(Age_Adult, Class_Crew)</td>\n",
       "      <td>(Survived_Yes, Gender_Male)</td>\n",
       "      <td>0.402090</td>\n",
       "      <td>0.166742</td>\n",
       "      <td>0.087233</td>\n",
       "      <td>0.216949</td>\n",
       "      <td>1.301104</td>\n",
       "      <td>1.0</td>\n",
       "      <td>0.020188</td>\n",
       "      <td>1.064117</td>\n",
       "      <td>0.387051</td>\n",
       "      <td>0.181132</td>\n",
       "      <td>0.060254</td>\n",
       "      <td>0.370055</td>\n",
       "    </tr>\n",
       "    <tr>\n",
       "      <th>160</th>\n",
       "      <td>(Class_Crew, Survived_Yes)</td>\n",
       "      <td>(Age_Adult, Gender_Male)</td>\n",
       "      <td>0.096320</td>\n",
       "      <td>0.757383</td>\n",
       "      <td>0.087233</td>\n",
       "      <td>0.905660</td>\n",
       "      <td>1.195776</td>\n",
       "      <td>1.0</td>\n",
       "      <td>0.014282</td>\n",
       "      <td>2.571740</td>\n",
       "      <td>0.181174</td>\n",
       "      <td>0.113811</td>\n",
       "      <td>0.611158</td>\n",
       "      <td>0.510419</td>\n",
       "    </tr>\n",
       "    <tr>\n",
       "      <th>161</th>\n",
       "      <td>(Gender_Male)</td>\n",
       "      <td>(Age_Adult, Class_Crew, Survived_Yes)</td>\n",
       "      <td>0.786461</td>\n",
       "      <td>0.096320</td>\n",
       "      <td>0.087233</td>\n",
       "      <td>0.110919</td>\n",
       "      <td>1.151565</td>\n",
       "      <td>1.0</td>\n",
       "      <td>0.011481</td>\n",
       "      <td>1.016420</td>\n",
       "      <td>0.616356</td>\n",
       "      <td>0.109652</td>\n",
       "      <td>0.016155</td>\n",
       "      <td>0.508289</td>\n",
       "    </tr>\n",
       "    <tr>\n",
       "      <th>162</th>\n",
       "      <td>(Age_Adult)</td>\n",
       "      <td>(Survived_Yes, Class_Crew, Gender_Male)</td>\n",
       "      <td>0.950477</td>\n",
       "      <td>0.087233</td>\n",
       "      <td>0.087233</td>\n",
       "      <td>0.091778</td>\n",
       "      <td>1.052103</td>\n",
       "      <td>1.0</td>\n",
       "      <td>0.004320</td>\n",
       "      <td>1.005004</td>\n",
       "      <td>1.000000</td>\n",
       "      <td>0.091778</td>\n",
       "      <td>0.004980</td>\n",
       "      <td>0.545889</td>\n",
       "    </tr>\n",
       "    <tr>\n",
       "      <th>163</th>\n",
       "      <td>(Class_Crew)</td>\n",
       "      <td>(Survived_Yes, Age_Adult, Gender_Male)</td>\n",
       "      <td>0.402090</td>\n",
       "      <td>0.153567</td>\n",
       "      <td>0.087233</td>\n",
       "      <td>0.216949</td>\n",
       "      <td>1.412737</td>\n",
       "      <td>1.0</td>\n",
       "      <td>0.025486</td>\n",
       "      <td>1.080943</td>\n",
       "      <td>0.488626</td>\n",
       "      <td>0.186227</td>\n",
       "      <td>0.074882</td>\n",
       "      <td>0.392498</td>\n",
       "    </tr>\n",
       "  </tbody>\n",
       "</table>\n",
       "<p>164 rows × 14 columns</p>\n",
       "</div>"
      ],
      "text/plain": [
       "                    antecedents                              consequents  \\\n",
       "0               (Gender_Female)                              (Class_1st)   \n",
       "1                   (Class_1st)                          (Gender_Female)   \n",
       "2                   (Age_Adult)                              (Class_1st)   \n",
       "3                   (Class_1st)                              (Age_Adult)   \n",
       "4                (Survived_Yes)                              (Class_1st)   \n",
       "..                          ...                                      ...   \n",
       "159     (Age_Adult, Class_Crew)              (Survived_Yes, Gender_Male)   \n",
       "160  (Class_Crew, Survived_Yes)                 (Age_Adult, Gender_Male)   \n",
       "161               (Gender_Male)    (Age_Adult, Class_Crew, Survived_Yes)   \n",
       "162                 (Age_Adult)  (Survived_Yes, Class_Crew, Gender_Male)   \n",
       "163                (Class_Crew)   (Survived_Yes, Age_Adult, Gender_Male)   \n",
       "\n",
       "     antecedent support  consequent support   support  confidence      lift  \\\n",
       "0              0.213539            0.147660  0.065879    0.308511  2.089329   \n",
       "1              0.147660            0.213539  0.065879    0.446154  2.089329   \n",
       "2              0.950477            0.147660  0.144934    0.152486  1.032680   \n",
       "3              0.147660            0.950477  0.144934    0.981538  1.032680   \n",
       "4              0.323035            0.147660  0.092231    0.285513  1.933584   \n",
       "..                  ...                 ...       ...         ...       ...   \n",
       "159            0.402090            0.166742  0.087233    0.216949  1.301104   \n",
       "160            0.096320            0.757383  0.087233    0.905660  1.195776   \n",
       "161            0.786461            0.096320  0.087233    0.110919  1.151565   \n",
       "162            0.950477            0.087233  0.087233    0.091778  1.052103   \n",
       "163            0.402090            0.153567  0.087233    0.216949  1.412737   \n",
       "\n",
       "     representativity  leverage  conviction  zhangs_metric   jaccard  \\\n",
       "0                 1.0  0.034348    1.232615       0.662941  0.223077   \n",
       "1                 1.0  0.034348    1.419998       0.611701  0.223077   \n",
       "2                 1.0  0.004587    1.005694       0.639010  0.152050   \n",
       "3                 1.0  0.004587    2.682493       0.037128  0.152050   \n",
       "4                 1.0  0.044531    1.192940       0.713221  0.243697   \n",
       "..                ...       ...         ...            ...       ...   \n",
       "159               1.0  0.020188    1.064117       0.387051  0.181132   \n",
       "160               1.0  0.014282    2.571740       0.181174  0.113811   \n",
       "161               1.0  0.011481    1.016420       0.616356  0.109652   \n",
       "162               1.0  0.004320    1.005004       1.000000  0.091778   \n",
       "163               1.0  0.025486    1.080943       0.488626  0.186227   \n",
       "\n",
       "     certainty  kulczynski  \n",
       "0     0.188716    0.377332  \n",
       "1     0.295774    0.377332  \n",
       "2     0.005661    0.567012  \n",
       "3     0.627212    0.567012  \n",
       "4     0.161735    0.455064  \n",
       "..         ...         ...  \n",
       "159   0.060254    0.370055  \n",
       "160   0.611158    0.510419  \n",
       "161   0.016155    0.508289  \n",
       "162   0.004980    0.545889  \n",
       "163   0.074882    0.392498  \n",
       "\n",
       "[164 rows x 14 columns]"
      ]
     },
     "execution_count": 43,
     "metadata": {},
     "output_type": "execute_result"
    }
   ],
   "source": [
    "# Generate association rules with metrics\n",
    "rules = association_rules(frequent_itemsets, metric=\"lift\", min_threshold=1.0)\n",
    "rules"
   ]
  },
  {
   "cell_type": "code",
   "execution_count": 47,
   "metadata": {},
   "outputs": [
    {
     "data": {
      "image/png": "[encoded data removed]",
      "text/plain": [
       "<Figure size 1080x504 with 4 Axes>"
      ]
     },
     "metadata": {
      "needs_background": "light"
     },
     "output_type": "display_data"
    }
   ],
   "source": [
    "import matplotlib.pyplot as plt\n",
    "rules[['support','confidence','lift']].hist(figsize=(15,7))\n",
    "plt.show()"
   ]
  },
  {
   "cell_type": "code",
   "execution_count": null,
   "metadata": {},
   "outputs": [],
   "source": []
  }
 ],
 "metadata": {
  "kernelspec": {
   "display_name": "Python 3",
   "language": "python",
   "name": "python3"
  },
  "language_info": {
   "codemirror_mode": {
    "name": "ipython",
    "version": 3
   },
   "file_extension": ".py",
   "mimetype": "text/x-python",
   "name": "python",
   "nbconvert_exporter": "python",
   "pygments_lexer": "ipython3",
   "version": "3.8.5"
  }
 },
 "nbformat": 4,
 "nbformat_minor": 4
}
